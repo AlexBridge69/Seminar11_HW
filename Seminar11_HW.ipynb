{
  "cells": [
    {
      "cell_type": "markdown",
      "metadata": {
        "id": "view-in-github",
        "colab_type": "text"
      },
      "source": [
        "<a href=\"https://colab.research.google.com/github/AlexBridge69/Seminar11_HW/blob/main/Seminar11_HW.ipynb\" target=\"_parent\"><img src=\"https://colab.research.google.com/assets/colab-badge.svg\" alt=\"Open In Colab\"/></a>"
      ]
    },
    {
      "cell_type": "code",
      "execution_count": 10,
      "metadata": {
        "id": "tpDzc1Z2h-f3"
      },
      "outputs": [],
      "source": [
        "from sympy import symbols, diff, Interval\n",
        "from sympy import *\n",
        "from sympy.plotting import plot\n",
        "from sympy.calculus.util import minimum, maximum\n",
        "import math"
      ]
    },
    {
      "cell_type": "markdown",
      "metadata": {
        "id": "cs3jI9zGhgn4"
      },
      "source": [
        "y = x^2 - 6*abs(x) + 8\n",
        "\n",
        "1. Определить корни\n",
        "2. Найти интервалы, на которых функция возрастает\n",
        "3. Найти интервалы, на которых функция убывает\n",
        "4. Построить график\n",
        "5. Вычислить вершину\n",
        "6. Определить промежутки, на котором f > 0\n",
        "7. Определить промежутки, на котором f < 0"
      ]
    },
    {
      "cell_type": "code",
      "execution_count": 11,
      "metadata": {
        "colab": {
          "base_uri": "https://localhost:8080/",
          "height": 38
        },
        "id": "UzNNopYLh6TH",
        "outputId": "38cdaf8a-f3cc-4d6f-d5f1-80ea9bf629d1"
      },
      "outputs": [
        {
          "output_type": "execute_result",
          "data": {
            "text/plain": [
              "x**2 - 6*Abs(x) + 8"
            ],
            "text/latex": "$\\displaystyle x^{2} - 6 \\left|{x}\\right| + 8$"
          },
          "metadata": {},
          "execution_count": 11
        }
      ],
      "source": [
        "x = Symbol('x',real=True)\n",
        "f = x**2 - 6*abs(x) + 8\n",
        "f"
      ]
    },
    {
      "cell_type": "markdown",
      "metadata": {
        "id": "4_bXzBNKplvC"
      },
      "source": [
        "**Определить корни**"
      ]
    },
    {
      "cell_type": "code",
      "execution_count": 12,
      "metadata": {
        "colab": {
          "base_uri": "https://localhost:8080/"
        },
        "id": "vb_hz4V1kHpQ",
        "outputId": "a1313ea2-4c30-44b0-e4e7-7ab9688f970d"
      },
      "outputs": [
        {
          "output_type": "stream",
          "name": "stdout",
          "text": [
            "Корни изначальной функции - [-4, -2, 2, 4]\n"
          ]
        }
      ],
      "source": [
        "result_solve=solveset(f, x, Interval(-oo, oo))\n",
        "result=[]\n",
        "for i in result_solve:\n",
        "    result.append(i)\n",
        "print(f'Корни изначальной функции - {result}')"
      ]
    },
    {
      "cell_type": "markdown",
      "metadata": {
        "id": "Jq5RHF23o7Fj"
      },
      "source": [
        "**График функции.**"
      ]
    },
    {
      "cell_type": "code",
      "execution_count": 13,
      "metadata": {
        "colab": {
          "base_uri": "https://localhost:8080/",
          "height": 313
        },
        "id": "ZBRtTdoqju2k",
        "outputId": "35c3842a-0792-4dbc-b7e8-a36a4266efc1"
      },
      "outputs": [
        {
          "output_type": "display_data",
          "data": {
            "text/plain": [
              "<Figure size 432x288 with 1 Axes>"
            ],
            "image/png": "[encoded data removed]"
          },
          "metadata": {
            "needs_background": "light"
          }
        },
        {
          "output_type": "execute_result",
          "data": {
            "text/plain": [
              "<sympy.plotting.plot.Plot at 0x7f0714b85510>"
            ]
          },
          "metadata": {},
          "execution_count": 13
        }
      ],
      "source": [
        "plot(f)"
      ]
    },
    {
      "cell_type": "markdown",
      "metadata": {
        "id": "AJFyNg8vpauT"
      },
      "source": [
        "Интервалы, на которых функция возрастает"
      ]
    },
    {
      "cell_type": "code",
      "execution_count": 14,
      "metadata": {
        "colab": {
          "base_uri": "https://localhost:8080/"
        },
        "id": "ZZiphzRSoOYc",
        "outputId": "b4526e76-7341-4e66-cfb3-2f84c409be3f"
      },
      "outputs": [
        {
          "output_type": "stream",
          "name": "stdout",
          "text": [
            "Производная изначальной функции = 2*x - 6*sign(x)\n"
          ]
        }
      ],
      "source": [
        "f1=diff(f)\n",
        "print(f'Производная изначальной функции = {f1}')"
      ]
    },
    {
      "cell_type": "code",
      "execution_count": 15,
      "metadata": {
        "colab": {
          "base_uri": "https://localhost:8080/"
        },
        "id": "J3upaReuph1E",
        "outputId": "c4d5af8e-97b7-4376-85c9-ea24c706349b"
      },
      "outputs": [
        {
          "output_type": "stream",
          "name": "stdout",
          "text": [
            "Экстремумы функции: [-3, 0, 3]\n"
          ]
        }
      ],
      "source": [
        "extremum_x=solveset(f1, x, Interval(-oo, oo))\n",
        "extremum_list=[]\n",
        "for i in extremum_x:\n",
        "    extremum_list.append(i)\n",
        "print(f'Экстремумы функции: {extremum_list}')"
      ]
    },
    {
      "cell_type": "code",
      "execution_count": 16,
      "metadata": {
        "colab": {
          "base_uri": "https://localhost:8080/",
          "height": 314
        },
        "id": "m9IADLkKqeB4",
        "outputId": "c1e1def5-3cd4-484f-85e9-3287bc85d883"
      },
      "outputs": [
        {
          "output_type": "display_data",
          "data": {
            "text/plain": [
              "<Figure size 432x288 with 1 Axes>"
            ],
            "image/png": "[encoded data removed]"
          },
          "metadata": {
            "needs_background": "light"
          }
        },
        {
          "output_type": "execute_result",
          "data": {
            "text/plain": [
              "<sympy.plotting.plot.Plot at 0x7f071451e4d0>"
            ]
          },
          "metadata": {},
          "execution_count": 16
        }
      ],
      "source": [
        "plot(f1, f)"
      ]
    },
    {
      "cell_type": "markdown",
      "metadata": {
        "id": "t1XdSkvGvL04"
      },
      "source": [
        "**Интервалы, на которых функция возрастает или падает.**"
      ]
    },
    {
      "cell_type": "code",
      "execution_count": 17,
      "metadata": {
        "colab": {
          "base_uri": "https://localhost:8080/"
        },
        "id": "BPNVkXl1rBf4",
        "outputId": "d5d03ea0-3050-412b-d364-5c389a51e92e"
      },
      "outputs": [
        {
          "output_type": "stream",
          "name": "stdout",
          "text": [
            "Функция на промежутке -oo:-3 падает.\n",
            "Функция на промежутке -3:0 возрастает.\n",
            "Функция на промежутке 0:3 падает.\n",
            "Функция на промежутке 3:oo возрастает.\n"
          ]
        }
      ],
      "source": [
        "for i in range(0, len(extremum_list)):\n",
        "    point=extremum_list[i]\n",
        "    if i==0:\n",
        "        if f1.subs(x,point-0.000001)<0:\n",
        "            print(f'Функция на промежутке {-oo}:{point} падает.')\n",
        "        else:\n",
        "            print(f'Функция на промежутке {-oo}:{point} возрастает.')\n",
        "    elif i==point-1:\n",
        "        if f1.subs(x,point+0.000001)<0:\n",
        "            print(f'Функция на промежутке {point}:{oo} падает.')\n",
        "        else:\n",
        "            print(f'Функция на промежутке {point}:{oo} возрастает.')\n",
        "    else:\n",
        "        if f1.subs(x,point-0.000001)<0:\n",
        "            print(f'Функция на промежутке {extremum_list[i-1]}:{point} падает.')\n",
        "        elif f1.subs(x,point-0.000001)>0:\n",
        "            print(f'Функция на промежутке {extremum_list[i-1]}:{point} возрастает.')\n",
        "\n",
        "        if f1.subs(x,point+0.000001)<0:\n",
        "            print(f'Функция на промежутке {point}:{extremum_list[i+1]} падает.')\n",
        "        elif f1.subs(x,point+0.000001)>0:\n",
        "            print(f'Функция на промежутке {point}:{extremum_list[i+1]} возрастает.')"
      ]
    },
    {
      "cell_type": "markdown",
      "metadata": {
        "id": "6JiDFDXDvYpT"
      },
      "source": [
        "**Интервалы, на которых функция больше или меньше 0.**"
      ]
    },
    {
      "cell_type": "code",
      "execution_count": 18,
      "metadata": {
        "colab": {
          "base_uri": "https://localhost:8080/"
        },
        "id": "-DelCinQ_x8w",
        "outputId": "5f5d5f9e-920f-4554-f2b3-5ddc9f4d8bea"
      },
      "outputs": [
        {
          "output_type": "stream",
          "name": "stdout",
          "text": [
            "Функция на промежутке -oo:-4 < 0.\n",
            "Функция на промежутке -4:-2 > 0.\n",
            "Функция на промежутке -2:2 > 0.\n",
            "Функция на промежутке -2:2 < 0.\n",
            "Функция на промежутке 2:4 < 0.\n",
            "Функция на промежутке 4:oo > 0.\n"
          ]
        }
      ],
      "source": [
        "for i in range(0, len(result)):\n",
        "    points = result[i]\n",
        "    if i==0:\n",
        "        if f1.subs(x,points-0.000001)<0:\n",
        "            print(f'Функция на промежутке {-oo}:{points} < 0.')\n",
        "        else:\n",
        "            print(f'Функция на промежутке {-oo}:{points} > 0.')\n",
        "    elif i==points-1:\n",
        "        if f1.subs(x,points+0.000001)<0:\n",
        "            print(f'Функция на промежутке {points}:{oo} < 0.')\n",
        "        else:\n",
        "            print(f'Функция на промежутке {points}:{oo} > 0.')\n",
        "    else:\n",
        "        if f1.subs(x,points-0.000001)<0:\n",
        "            print(f'Функция на промежутке {result[i-1]}:{points} < 0.')\n",
        "        elif f1.subs(x,points-0.000001)>0:\n",
        "            print(f'Функция на промежутке {result[i-1]}:{points} > 0.')\n",
        "\n",
        "        if f1.subs(x,points+0.000001)<0:\n",
        "            print(f'Функция на промежутке {points}:{result[i+1]} < 0.')\n",
        "        elif f1.subs(x,points+0.000001)>0:\n",
        "            print(f'Функция на промежутке {points}:{result[i+1]} > 0.')"
      ]
    }
  ],
  "metadata": {
    "colab": {
      "collapsed_sections": [],
      "name": "Seminar11-HW.ipynb",
      "provenance": [],
      "include_colab_link": true
    },
    "kernelspec": {
      "display_name": "Python 3 (ipykernel)",
      "language": "python",
      "name": "python3"
    },
    "language_info": {
      "codemirror_mode": {
        "name": "ipython",
        "version": 3
      },
      "file_extension": ".py",
      "mimetype": "text/x-python",
      "name": "python",
      "nbconvert_exporter": "python",
      "pygments_lexer": "ipython3",
      "version": "3.9.12"
    }
  },
  "nbformat": 4,
  "nbformat_minor": 0
}